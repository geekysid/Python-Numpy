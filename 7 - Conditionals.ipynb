{
 "cells": [
  {
   "cell_type": "code",
   "execution_count": 1,
   "metadata": {},
   "outputs": [],
   "source": [
    "import numpy as np"
   ]
  },
  {
   "cell_type": "code",
   "execution_count": 2,
   "metadata": {},
   "outputs": [
    {
     "name": "stdout",
     "output_type": "stream",
     "text": [
      "[[ 4  0 17 10  8]\n",
      " [14  1  2  0 18]]\n",
      "[[False False  True False False]\n",
      " [ True False False False  True]]\n"
     ]
    }
   ],
   "source": [
    "# Retrun array with element > 10\n",
    "arr = np.random.randint(0,20,10).reshape(2,5)\n",
    "print(arr)\n",
    "print(arr>10)"
   ]
  },
  {
   "cell_type": "code",
   "execution_count": 3,
   "metadata": {},
   "outputs": [
    {
     "name": "stdout",
     "output_type": "stream",
     "text": [
      "[[ 1  1 14 16 17]\n",
      " [15 14  1  1  9]]\n",
      "[[False False  True False False]\n",
      " [False  True False False False]]\n"
     ]
    }
   ],
   "source": [
    "# Retrun array with element > 10 and < 15\n",
    "arr = np.random.randint(0,20,10).reshape(2,5)\n",
    "print(arr)\n",
    "print(((arr > 10) & (arr < 15)))"
   ]
  },
  {
   "cell_type": "code",
   "execution_count": 4,
   "metadata": {},
   "outputs": [
    {
     "name": "stdout",
     "output_type": "stream",
     "text": [
      "[[13  2  7  5 18]\n",
      " [ 0 16  6  3  0]]\n",
      "[[100   2   7   5 100]\n",
      " [  0 100   6   3   0]]\n"
     ]
    }
   ],
   "source": [
    "# replace element which satisfy condition with 100\n",
    "arr = np.random.randint(0,20,10).reshape(2,5)\n",
    "print(arr)\n",
    "arr[arr>10] = 100\n",
    "print(arr)"
   ]
  },
  {
   "cell_type": "code",
   "execution_count": 5,
   "metadata": {
    "scrolled": false
   },
   "outputs": [
    {
     "name": "stdout",
     "output_type": "stream",
     "text": [
      "[[ 5  4 16 17  6]\n",
      " [17  0 16  0 12]]\n",
      "(arr>10):\n",
      "[[False False  True  True False]\n",
      " [ True False  True False  True]]\n",
      "arr[~(arr>10)] = 0:\n",
      "0\n",
      "[[ 0  0 16 17  0]\n",
      " [17  0 16  0 12]]\n"
     ]
    }
   ],
   "source": [
    "# replace element which fails condition with 0\n",
    "arr = np.random.randint(0,20,10).reshape(2,5)\n",
    "print(arr)\n",
    "print(f\"(arr>10):\\n{arr>10}\")\n",
    "a= arr[~(arr>10)] = 0\n",
    "print(f\"arr[~(arr>10)] = 0:\\n{a}\")\n",
    "print(arr)"
   ]
  },
  {
   "cell_type": "markdown",
   "metadata": {},
   "source": [
    "# any()"
   ]
  },
  {
   "cell_type": "code",
   "execution_count": 6,
   "metadata": {},
   "outputs": [
    {
     "name": "stdout",
     "output_type": "stream",
     "text": [
      "[[0 1]\n",
      " [0 1]]\n",
      "True\n"
     ]
    }
   ],
   "source": [
    "# if there is any non-0 element in array\n",
    "arr = np.random.randint(0,2,4).reshape(2,2)\n",
    "filt = arr.any()\n",
    "print(arr)\n",
    "print(filt)"
   ]
  },
  {
   "cell_type": "code",
   "execution_count": 7,
   "metadata": {},
   "outputs": [
    {
     "name": "stdout",
     "output_type": "stream",
     "text": [
      "[[0 0]\n",
      " [1 1]]\n",
      "False\n"
     ]
    }
   ],
   "source": [
    "# if there is any element is greater then 1\n",
    "arr = np.random.randint(0,2,4).reshape(2,2)\n",
    "filt = np.any(arr>1)\n",
    "print(arr)\n",
    "print(filt)"
   ]
  },
  {
   "cell_type": "code",
   "execution_count": 8,
   "metadata": {},
   "outputs": [
    {
     "name": "stdout",
     "output_type": "stream",
     "text": [
      "[[0 1]\n",
      " [0 0]]\n",
      "[ True False]\n"
     ]
    }
   ],
   "source": [
    "# if there is any non-0 element in row\n",
    "arr = np.random.randint(0,2,4).reshape(2,2)\n",
    "filt = arr.any(axis=1)\n",
    "print(arr)\n",
    "print(filt)"
   ]
  },
  {
   "cell_type": "code",
   "execution_count": 9,
   "metadata": {},
   "outputs": [
    {
     "name": "stdout",
     "output_type": "stream",
     "text": [
      "[[0 1]\n",
      " [1 1]]\n",
      "[ True  True]\n"
     ]
    }
   ],
   "source": [
    "# if there is any non-0 element in columns\n",
    "arr = np.random.randint(0,2,4).reshape(2,2)\n",
    "filt = arr.any(axis=0)\n",
    "print(arr)\n",
    "print(filt)"
   ]
  },
  {
   "cell_type": "code",
   "execution_count": 10,
   "metadata": {},
   "outputs": [
    {
     "name": "stdout",
     "output_type": "stream",
     "text": [
      "[[0 1]\n",
      " [1 0]]\n",
      "[ True  True]\n"
     ]
    }
   ],
   "source": [
    "# if there is any element>=1 in columns\n",
    "arr = np.random.randint(0,2,4).reshape(2,2)\n",
    "filt = np.any(arr>=1, axis=0)\n",
    "print(arr)\n",
    "print(filt)"
   ]
  },
  {
   "cell_type": "code",
   "execution_count": 11,
   "metadata": {},
   "outputs": [
    {
     "name": "stdout",
     "output_type": "stream",
     "text": [
      "[[1 1]\n",
      " [0 0]]\n",
      "[ True False]\n"
     ]
    }
   ],
   "source": [
    "# if there is any element>=1 in rows\n",
    "arr = np.random.randint(0,2,4).reshape(2,2)\n",
    "filt = np.any(arr>=1, axis=1)\n",
    "print(arr)\n",
    "print(filt)"
   ]
  },
  {
   "cell_type": "markdown",
   "metadata": {},
   "source": [
    "# all()"
   ]
  },
  {
   "cell_type": "code",
   "execution_count": 12,
   "metadata": {},
   "outputs": [
    {
     "name": "stdout",
     "output_type": "stream",
     "text": [
      "[[1 0]\n",
      " [1 0]]\n",
      "False\n"
     ]
    }
   ],
   "source": [
    "# if there all elements are non-0 in array\n",
    "arr = np.random.randint(0,2,4).reshape(2,2)\n",
    "filt = arr.all()\n",
    "print(arr)\n",
    "print(filt)"
   ]
  },
  {
   "cell_type": "code",
   "execution_count": 13,
   "metadata": {},
   "outputs": [
    {
     "name": "stdout",
     "output_type": "stream",
     "text": [
      "[[1 1]\n",
      " [0 0]]\n",
      "[ True False]\n"
     ]
    }
   ],
   "source": [
    "# if all elements are non-0 in rows\n",
    "arr = np.random.randint(0,2,4).reshape(2,2)\n",
    "filt = arr.all(axis=1)\n",
    "print(arr)\n",
    "print(filt)"
   ]
  },
  {
   "cell_type": "code",
   "execution_count": 14,
   "metadata": {},
   "outputs": [
    {
     "name": "stdout",
     "output_type": "stream",
     "text": [
      "[[0 1]\n",
      " [1 0]]\n",
      "[False False]\n",
      "[ True  True]\n"
     ]
    }
   ],
   "source": [
    "# if all elements are non-0 in columns\n",
    "arr = np.random.randint(0,2,4).reshape(2,2)\n",
    "filt = arr.all(axis=0)\n",
    "print(arr)\n",
    "print(filt)\n",
    "print(~filt)"
   ]
  },
  {
   "cell_type": "code",
   "execution_count": 15,
   "metadata": {},
   "outputs": [
    {
     "name": "stdout",
     "output_type": "stream",
     "text": [
      "[[0 1]\n",
      " [1 0]]\n",
      "False\n"
     ]
    }
   ],
   "source": [
    "# if all elements in array is >= 1\n",
    "arr = np.random.randint(0,2,4).reshape(2,2)\n",
    "filt = np.all(arr>=1)\n",
    "print(arr)\n",
    "print(filt)"
   ]
  },
  {
   "cell_type": "code",
   "execution_count": 16,
   "metadata": {},
   "outputs": [
    {
     "name": "stdout",
     "output_type": "stream",
     "text": [
      "[[0 1]\n",
      " [0 0]]\n",
      "[False False]\n"
     ]
    }
   ],
   "source": [
    "# if all elements in each columns is >= 1\n",
    "arr = np.random.randint(0,2,4).reshape(2,2)\n",
    "filt = np.all(arr>=1, axis=0)\n",
    "print(arr)\n",
    "print(filt)"
   ]
  },
  {
   "cell_type": "code",
   "execution_count": 17,
   "metadata": {
    "scrolled": true
   },
   "outputs": [
    {
     "name": "stdout",
     "output_type": "stream",
     "text": [
      "[[1 0]\n",
      " [0 1]]\n",
      "[False False]\n"
     ]
    }
   ],
   "source": [
    "# if all elements in each rows is >= 1\n",
    "arr = np.random.randint(0,2,4).reshape(2,2)\n",
    "filt = np.all(arr>=1, axis=1)\n",
    "print(arr)\n",
    "print(filt)"
   ]
  },
  {
   "cell_type": "markdown",
   "metadata": {},
   "source": [
    "# isnan()"
   ]
  },
  {
   "cell_type": "code",
   "execution_count": 18,
   "metadata": {},
   "outputs": [
    {
     "name": "stdout",
     "output_type": "stream",
     "text": [
      "[[ 0.  1.  2.]\n",
      " [ 3. nan  5.]\n",
      " [ 6.  7. nan]]\n",
      "[[False False False]\n",
      " [False  True False]\n",
      " [False False  True]]\n"
     ]
    }
   ],
   "source": [
    "# checking if element is missng value\n",
    "arr = np.array([0,1,2,3,np.nan, 5,6,7, np.nan]).reshape(3,3)\n",
    "filt = np.isnan(arr)\n",
    "print(arr)\n",
    "print(filt)"
   ]
  },
  {
   "cell_type": "markdown",
   "metadata": {},
   "source": [
    "# isinf()"
   ]
  },
  {
   "cell_type": "code",
   "execution_count": 19,
   "metadata": {},
   "outputs": [
    {
     "name": "stdout",
     "output_type": "stream",
     "text": [
      "[[  0.   1.   2.]\n",
      " [  3.  inf   5.]\n",
      " [  6.   7. -inf]]\n",
      "[[False False False]\n",
      " [False  True False]\n",
      " [False False  True]]\n"
     ]
    }
   ],
   "source": [
    "# checking if element is infity\n",
    "arr = np.array([0,1,2,3,np.inf, 5,6,7, -np.inf]).reshape(3,3)\n",
    "filt = np.isinf(arr)\n",
    "print(arr)\n",
    "print(filt)"
   ]
  },
  {
   "cell_type": "code",
   "execution_count": 20,
   "metadata": {},
   "outputs": [
    {
     "name": "stdout",
     "output_type": "stream",
     "text": [
      "[[  0.   1.   2.]\n",
      " [  3.  inf   5.]\n",
      " [  6.   7. -inf]]\n",
      "[[False False False]\n",
      " [False False False]\n",
      " [False False  True]]\n"
     ]
    }
   ],
   "source": [
    "# checking if element is negative infity\n",
    "arr = np.array([0,1,2,3,np.inf, 5,6,7, -np.inf]).reshape(3,3)\n",
    "filt = (arr == -np.inf)\n",
    "print(arr)\n",
    "print(filt)"
   ]
  },
  {
   "cell_type": "markdown",
   "metadata": {},
   "source": [
    "# count_nonzero()"
   ]
  },
  {
   "cell_type": "code",
   "execution_count": 21,
   "metadata": {},
   "outputs": [
    {
     "name": "stdout",
     "output_type": "stream",
     "text": [
      "[[1 1 1 1 1]\n",
      " [0 2 0 0 0]]\n"
     ]
    },
    {
     "data": {
      "text/plain": [
       "6"
      ]
     },
     "execution_count": 21,
     "metadata": {},
     "output_type": "execute_result"
    }
   ],
   "source": [
    "# count_nonzero() => counts totoal non-zero elements in array\n",
    "arr = np.random.randint(0,3,10).reshape(2,5)\n",
    "print((arr))\n",
    "np.count_nonzero(arr)"
   ]
  },
  {
   "cell_type": "code",
   "execution_count": 22,
   "metadata": {},
   "outputs": [
    {
     "name": "stdout",
     "output_type": "stream",
     "text": [
      "[[ 6 15  5  7  9]\n",
      " [ 6 12 14  2 18]]\n",
      "[[False  True False False False]\n",
      " [False  True  True False  True]]\n"
     ]
    },
    {
     "data": {
      "text/plain": [
       "4"
      ]
     },
     "execution_count": 22,
     "metadata": {},
     "output_type": "execute_result"
    }
   ],
   "source": [
    "# count_nonzero() => counts elements that satisfy condition and is faster then sum()\n",
    "arr = np.random.randint(0,20,10).reshape(2,5)\n",
    "filt = arr>10\n",
    "print(arr)\n",
    "print(filt)\n",
    "np.count_nonzero(filt)  # this is similar to np.count_nonzero(arr>10)"
   ]
  },
  {
   "cell_type": "code",
   "execution_count": 23,
   "metadata": {},
   "outputs": [
    {
     "name": "stdout",
     "output_type": "stream",
     "text": [
      "[[ 7 11 15 13  3  9]\n",
      " [14  9 12  7  7  5]\n",
      " [ 7  1 11  3 16 18]\n",
      " [ 4  1  0  6 16 11]]\n"
     ]
    },
    {
     "data": {
      "text/plain": [
       "array([3, 2, 3, 2], dtype=int32)"
      ]
     },
     "execution_count": 23,
     "metadata": {},
     "output_type": "execute_result"
    }
   ],
   "source": [
    "# using count_nonzero to count true elements row wise\n",
    "arr = np.random.randint(0,20,24).reshape(4,6)\n",
    "print(arr)\n",
    "np.count_nonzero(arr>10, axis=1)"
   ]
  },
  {
   "cell_type": "code",
   "execution_count": 24,
   "metadata": {},
   "outputs": [
    {
     "name": "stdout",
     "output_type": "stream",
     "text": [
      "[[ 7 13 19  8  9 15]\n",
      " [10  8  1 13 12  7]\n",
      " [ 3 10 18 16  2 16]\n",
      " [18 16 15  4  5 13]]\n"
     ]
    },
    {
     "data": {
      "text/plain": [
       "array([1, 2, 3, 2, 1, 3], dtype=int32)"
      ]
     },
     "execution_count": 24,
     "metadata": {},
     "output_type": "execute_result"
    }
   ],
   "source": [
    "# using count_nonzero to count true elements column wise\n",
    "arr = np.random.randint(0,20,24).reshape(4,6)\n",
    "print(arr)\n",
    "np.count_nonzero(arr>10, axis=0)"
   ]
  },
  {
   "cell_type": "markdown",
   "metadata": {},
   "source": [
    "# where()"
   ]
  },
  {
   "cell_type": "code",
   "execution_count": 25,
   "metadata": {},
   "outputs": [
    {
     "name": "stdout",
     "output_type": "stream",
     "text": [
      "[[ 3 17  4 13 18]\n",
      " [18  6  5 14  4]]\n",
      "(array([0, 0, 0, 1, 1], dtype=int32), array([1, 3, 4, 0, 3], dtype=int32))\n"
     ]
    }
   ],
   "source": [
    "# using where() function to get same result.\n",
    "arr = np.random.randint(0,20,10).reshape(2,5)\n",
    "filt = np.where(arr>10)\n",
    "print(arr)\n",
    "print(filt)"
   ]
  },
  {
   "cell_type": "code",
   "execution_count": 26,
   "metadata": {},
   "outputs": [
    {
     "name": "stdout",
     "output_type": "stream",
     "text": [
      "[[10  1  5  4  6]\n",
      " [ 1  4 17  9  2]]\n",
      "[[False False False False False]\n",
      " [False False  True False False]]\n"
     ]
    }
   ],
   "source": [
    "# using where() function to get same result.\n",
    "arr = np.random.randint(0,20,10).reshape(2,5)\n",
    "filt = np.where(arr>10, True, False)\n",
    "print(arr)\n",
    "print(filt)"
   ]
  },
  {
   "cell_type": "code",
   "execution_count": 27,
   "metadata": {},
   "outputs": [
    {
     "name": "stdout",
     "output_type": "stream",
     "text": [
      "[[ 3  0 10  3  6]\n",
      " [ 6  8 12  3  1]]\n",
      "[[ 0  0  0  0  0]\n",
      " [ 0  0 12  0  0]]\n"
     ]
    }
   ],
   "source": [
    "# Change element that are not > 10 to 0\n",
    "arr = np.random.randint(0,20,10).reshape(2,5)\n",
    "filt = np.where(arr>10, arr, 0)\n",
    "print(arr)\n",
    "print(filt)"
   ]
  },
  {
   "cell_type": "code",
   "execution_count": 28,
   "metadata": {},
   "outputs": [
    {
     "name": "stdout",
     "output_type": "stream",
     "text": [
      "[[14 14 17  3  0]\n",
      " [18  5 16 18 14]]\n",
      "[[1 1 1 0 0]\n",
      " [1 0 1 1 1]]\n"
     ]
    }
   ],
   "source": [
    "# Change element that are not > 10 to 0 else make them 1\n",
    "arr = np.random.randint(0,20,10).reshape(2,5)\n",
    "filt = np.where(arr>10, 1, 0)\n",
    "print(arr)\n",
    "print(filt)"
   ]
  },
  {
   "cell_type": "code",
   "execution_count": 29,
   "metadata": {},
   "outputs": [
    {
     "name": "stdout",
     "output_type": "stream",
     "text": [
      "[[ 6  0 16 13 13]\n",
      " [ 9  5 16  7 17]]\n",
      "[[1 0 1 1 1]\n",
      " [1 1 1 1 1]]\n",
      "Sum:  9\n"
     ]
    }
   ],
   "source": [
    "# number of non-zero elemets\n",
    "arr = np.random.randint(0,20,10).reshape(2,5)\n",
    "filt = np.where(~(arr==0), 1, 0)\n",
    "print(arr)\n",
    "print(filt)\n",
    "print(\"Sum: \", filt.sum())"
   ]
  },
  {
   "cell_type": "code",
   "execution_count": 32,
   "metadata": {},
   "outputs": [
    {
     "name": "stdout",
     "output_type": "stream",
     "text": [
      "[[16  8 15 13 15]\n",
      " [16 16  8  0 16]]\n",
      "[[0 0 0 0 0]\n",
      " [0 0 0 1 0]]\n",
      "Sum:  1\n"
     ]
    }
   ],
   "source": [
    "# number of zero elemets\n",
    "arr = np.random.randint(0,20,10).reshape(2,5)\n",
    "filt = np.where(arr==0, 1, 0)\n",
    "print(arr)\n",
    "print(filt)\n",
    "print(\"Sum: \", filt.sum())"
   ]
  },
  {
   "cell_type": "code",
   "execution_count": 31,
   "metadata": {},
   "outputs": [
    {
     "name": "stdout",
     "output_type": "stream",
     "text": [
      "[[17 10  7  2  2]\n",
      " [ 6  4  4  7  3]]\n",
      "(array([0], dtype=int32), array([0], dtype=int32))\n",
      "[(0, 0)]\n"
     ]
    }
   ],
   "source": [
    "# indices of element that satisfy the condition\n",
    "arr = np.random.randint(0,20,10).reshape(2,5)\n",
    "filt = np.where(arr>10)\n",
    "print(arr)\n",
    "print(filt)\n",
    "print(list(zip(*filt)))"
   ]
  },
  {
   "cell_type": "code",
   "execution_count": null,
   "metadata": {},
   "outputs": [],
   "source": []
  }
 ],
 "metadata": {
  "kernelspec": {
   "display_name": "Python 3",
   "language": "python",
   "name": "python3"
  },
  "language_info": {
   "codemirror_mode": {
    "name": "ipython",
    "version": 3
   },
   "file_extension": ".py",
   "mimetype": "text/x-python",
   "name": "python",
   "nbconvert_exporter": "python",
   "pygments_lexer": "ipython3",
   "version": "3.8.2"
  }
 },
 "nbformat": 4,
 "nbformat_minor": 4
}
