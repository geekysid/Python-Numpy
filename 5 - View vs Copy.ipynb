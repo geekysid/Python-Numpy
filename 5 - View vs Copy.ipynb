{
 "cells": [
  {
   "cell_type": "code",
   "execution_count": 1,
   "metadata": {},
   "outputs": [],
   "source": [
    "import numpy as np"
   ]
  },
  {
   "cell_type": "code",
   "execution_count": 2,
   "metadata": {},
   "outputs": [
    {
     "data": {
      "text/plain": [
       "array([[ 1,  2,  3,  4],\n",
       "       [ 5,  6,  7,  8],\n",
       "       [ 9, 10, 11, 12]])"
      ]
     },
     "execution_count": 2,
     "metadata": {},
     "output_type": "execute_result"
    }
   ],
   "source": [
    "arr = np.arange(1, 13, 1).reshape(3, 4)\n",
    "arr"
   ]
  },
  {
   "cell_type": "code",
   "execution_count": 3,
   "metadata": {},
   "outputs": [
    {
     "name": "stdout",
     "output_type": "stream",
     "text": [
      "Shape - (3, 4)\n",
      "Dimension - 2\n",
      "Size - 12\n",
      "Memory Usage - 48 bytes\n"
     ]
    }
   ],
   "source": [
    "print(f\"Shape - {arr.shape}\")\n",
    "print(f\"Dimension - {arr.ndim}\")\n",
    "print(f\"Size - {arr.size}\")\n",
    "print(f\"Memory Usage - {arr.nbytes} bytes\")"
   ]
  },
  {
   "cell_type": "code",
   "execution_count": 4,
   "metadata": {},
   "outputs": [
    {
     "data": {
      "text/plain": [
       "array([[ 1,  2,  3],\n",
       "       [ 5,  6,  7],\n",
       "       [ 9, 10, 11]])"
      ]
     },
     "execution_count": 4,
     "metadata": {},
     "output_type": "execute_result"
    }
   ],
   "source": [
    "# creating view of a numpy arrray\n",
    "arr_view = arr[:, 0:3]\n",
    "arr_view"
   ]
  },
  {
   "cell_type": "code",
   "execution_count": 5,
   "metadata": {},
   "outputs": [
    {
     "name": "stdout",
     "output_type": "stream",
     "text": [
      "Before changing arr_view\n",
      "arr_view[0,0] = 1\n",
      "arr[0,0] = 1\n",
      "==============================\n",
      "After changing arr_view\n",
      "arr_view[0,0] = 100\n",
      "arr[0,0] = 100\n"
     ]
    }
   ],
   "source": [
    "# changing element at [0,0] of arr_view will also change value of element [0,0] in arr\n",
    "print(\"Before changing arr_view\")\n",
    "print(f\"arr_view[0,0] = {arr_view[0,0]}\")\n",
    "print(f\"arr[0,0] = {arr[0,0]}\")\n",
    "print(\"=\"*30)\n",
    "print(\"After changing arr_view\")\n",
    "arr_view[0,0] = 100\n",
    "print(f\"arr_view[0,0] = {arr_view[0,0]}\")\n",
    "print(f\"arr[0,0] = {arr[0,0]}\")"
   ]
  },
  {
   "cell_type": "code",
   "execution_count": 7,
   "metadata": {},
   "outputs": [
    {
     "data": {
      "text/plain": [
       "array([[100,   2,   3],\n",
       "       [  5,   6,   7],\n",
       "       [  9,  10,  11]])"
      ]
     },
     "execution_count": 7,
     "metadata": {},
     "output_type": "execute_result"
    }
   ],
   "source": [
    "    # creating copy of a numpy arrray\n",
    "    arr_copy = arr[:, 0:3].copy()\n",
    "    arr_copy"
   ]
  },
  {
   "cell_type": "code",
   "execution_count": 8,
   "metadata": {},
   "outputs": [
    {
     "name": "stdout",
     "output_type": "stream",
     "text": [
      "Before changing arr_copy\n",
      "arr_copy[0,0] = 100\n",
      "arr[0,0] = 100\n",
      "==============================\n",
      "After changing arr_copy\n",
      "arr_copy[0,0] = 1\n",
      "arr[0,0] = 100\n"
     ]
    }
   ],
   "source": [
    "# changing element at [0,0] of arr_copy will make no change in value of element [0,0] in arr\n",
    "print(\"Before changing arr_copy\")\n",
    "print(f\"arr_copy[0,0] = {arr_copy[0,0]}\")\n",
    "print(f\"arr[0,0] = {arr[0,0]}\")\n",
    "print(\"=\"*30)\n",
    "print(\"After changing arr_copy\")\n",
    "arr_copy[0,0] = 1\n",
    "print(f\"arr_copy[0,0] = {arr_copy[0,0]}\")\n",
    "print(f\"arr[0,0] = {arr[0,0]}\")"
   ]
  },
  {
   "cell_type": "code",
   "execution_count": null,
   "metadata": {},
   "outputs": [],
   "source": []
  }
 ],
 "metadata": {
  "kernelspec": {
   "display_name": "Python 3",
   "language": "python",
   "name": "python3"
  },
  "language_info": {
   "codemirror_mode": {
    "name": "ipython",
    "version": 3
   },
   "file_extension": ".py",
   "mimetype": "text/x-python",
   "name": "python",
   "nbconvert_exporter": "python",
   "pygments_lexer": "ipython3",
   "version": "3.8.2"
  }
 },
 "nbformat": 4,
 "nbformat_minor": 4
}
