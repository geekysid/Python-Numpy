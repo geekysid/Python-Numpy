{
 "cells": [
  {
   "cell_type": "code",
   "execution_count": 1,
   "metadata": {},
   "outputs": [],
   "source": [
    "import numpy as np"
   ]
  },
  {
   "cell_type": "code",
   "execution_count": 2,
   "metadata": {},
   "outputs": [
    {
     "data": {
      "text/plain": [
       "array([ 1,  2,  3,  4,  5,  6,  7,  8,  9, 10, 11, 12, 13, 14, 15, 16, 17,\n",
       "       18, 19, 20, 21, 22, 23, 24])"
      ]
     },
     "execution_count": 2,
     "metadata": {},
     "output_type": "execute_result"
    }
   ],
   "source": [
    "# generating 1D array using arange\n",
    "arr_org = np.arange(1, 25)\n",
    "arr_org"
   ]
  },
  {
   "cell_type": "code",
   "execution_count": 3,
   "metadata": {},
   "outputs": [
    {
     "name": "stdout",
     "output_type": "stream",
     "text": [
      "Elements in arr_org => 24\n",
      "Shape of arr_org => (24,)\n",
      "Dimension in arr_org => 1\n"
     ]
    }
   ],
   "source": [
    "# Details of orginal array\n",
    "print(f\"Elements in arr_org => {arr_org.size}\")\n",
    "print(f\"Shape of arr_org => {arr_org.shape}\")\n",
    "print(f\"Dimension in arr_org => {arr_org.ndim}\")"
   ]
  },
  {
   "cell_type": "code",
   "execution_count": 4,
   "metadata": {},
   "outputs": [
    {
     "data": {
      "text/plain": [
       "array([[ 1,  2,  3,  4,  5,  6],\n",
       "       [ 7,  8,  9, 10, 11, 12],\n",
       "       [13, 14, 15, 16, 17, 18],\n",
       "       [19, 20, 21, 22, 23, 24]])"
      ]
     },
     "execution_count": 4,
     "metadata": {},
     "output_type": "execute_result"
    }
   ],
   "source": [
    "# Using reshape() as numpy function - 1D array into 2D array\n",
    "arr_2d = np.reshape(arr_org, (4, 6))\n",
    "arr_2d"
   ]
  },
  {
   "cell_type": "code",
   "execution_count": 5,
   "metadata": {},
   "outputs": [
    {
     "name": "stdout",
     "output_type": "stream",
     "text": [
      "Elements in arr_2d => 24\n",
      "Shape of arr_2d => (4, 6)\n",
      "Dimension in arr_2d => 2\n"
     ]
    }
   ],
   "source": [
    "# Details of 2D array created from original array\n",
    "print(f\"Elements in arr_2d => {arr_2d.size}\")\n",
    "print(f\"Shape of arr_2d => {arr_2d.shape}\")\n",
    "print(f\"Dimension in arr_2d => {arr_2d.ndim}\")"
   ]
  },
  {
   "cell_type": "code",
   "execution_count": 6,
   "metadata": {},
   "outputs": [
    {
     "data": {
      "text/plain": [
       "array([[[ 1,  2,  3,  4],\n",
       "        [ 5,  6,  7,  8],\n",
       "        [ 9, 10, 11, 12]],\n",
       "\n",
       "       [[13, 14, 15, 16],\n",
       "        [17, 18, 19, 20],\n",
       "        [21, 22, 23, 24]]])"
      ]
     },
     "execution_count": 6,
     "metadata": {},
     "output_type": "execute_result"
    }
   ],
   "source": [
    "# Using reshape() as numpy function - 2D array into 3D array\n",
    "arr_3d = np.reshape(arr_2d, (2, 3, 4))\n",
    "arr_3d"
   ]
  },
  {
   "cell_type": "code",
   "execution_count": 7,
   "metadata": {},
   "outputs": [
    {
     "data": {
      "text/plain": [
       "array([ 1,  2,  3,  4,  5,  6,  7,  8,  9, 10, 11, 12, 13, 14, 15, 16, 17,\n",
       "       18, 19, 20, 21, 22, 23, 24])"
      ]
     },
     "execution_count": 7,
     "metadata": {},
     "output_type": "execute_result"
    }
   ],
   "source": [
    "# Using reshape() as numpy function - 3D array into 1D array\n",
    "arr_1d = np.reshape(arr_3d, (24,))\n",
    "arr_1d"
   ]
  },
  {
   "cell_type": "code",
   "execution_count": 8,
   "metadata": {},
   "outputs": [
    {
     "name": "stdout",
     "output_type": "stream",
     "text": [
      "Present Value\n",
      "arr_1d[0] => 1  |  arr_org[0] => 1\n",
      "After arr_1d[0] = 0\n",
      "arr_1d[0] => 0  |  arr_org[0] => 0\n"
     ]
    }
   ],
   "source": [
    "# Since arr_1d is view of arr_3d which is view of arr_2d, which is view of arr_1d, which again is view of arr_org, \n",
    "# so if we change the 1st element of arr_1d, change must also reflect in arr_org.\n",
    "print(f\"Present Value\")\n",
    "print(f\"arr_1d[0] => {arr_1d[0]}  |  arr_org[0] => {arr_org[0]}\")\n",
    "\n",
    "arr_1d[0] = 0\n",
    "\n",
    "print(f\"After arr_1d[0] = 0\")\n",
    "print(f\"arr_1d[0] => {arr_1d[0]}  |  arr_org[0] => {arr_org[0]}\")"
   ]
  },
  {
   "cell_type": "code",
   "execution_count": 9,
   "metadata": {},
   "outputs": [
    {
     "name": "stdout",
     "output_type": "stream",
     "text": [
      "arr_3d with order as C (columns-like)\n",
      "[[[ 0  2  3  4]\n",
      "  [ 5  6  7  8]\n",
      "  [ 9 10 11 12]]\n",
      "\n",
      " [[13 14 15 16]\n",
      "  [17 18 19 20]\n",
      "  [21 22 23 24]]]\n",
      "\n",
      " ============================== \n",
      "\n",
      "arr_3d with order as F (Fortan-like)\n",
      "[[[ 0  7 13 19]\n",
      "  [ 3  9 15 21]\n",
      "  [ 5 11 17 23]]\n",
      "\n",
      " [[ 2  8 14 20]\n",
      "  [ 4 10 16 22]\n",
      "  [ 6 12 18 24]]]\n"
     ]
    }
   ],
   "source": [
    "# Using order argument in reshape as numpy function\n",
    "arr_3d_C = np.reshape(arr_org, (2, 3, 4), order=\"C\")\n",
    "print(f\"arr_3d with order as C (columns-like)\\n{arr_3d_C}\")\n",
    "\n",
    "print(\"\\n\", \"=\"*30, \"\\n\")\n",
    "\n",
    "arr_3d_F = np.reshape(arr_org, (2, 3, 4), order=\"f\")\n",
    "print(f\"arr_3d with order as F (Fortan-like)\\n{arr_3d_F}\")"
   ]
  },
  {
   "cell_type": "code",
   "execution_count": 10,
   "metadata": {},
   "outputs": [
    {
     "name": "stdout",
     "output_type": "stream",
     "text": [
      "arr_2d with order as C (columns-like)\n",
      "[[ 0  2  3  4  5  6]\n",
      " [ 7  8  9 10 11 12]\n",
      " [13 14 15 16 17 18]\n",
      " [19 20 21 22 23 24]]\n",
      "\n",
      " ============================== \n",
      "\n",
      "arr_2d with order as F (Fortan-like)\n",
      "[[ 0  5  9 13 17 21]\n",
      " [ 2  6 10 14 18 22]\n",
      " [ 3  7 11 15 19 23]\n",
      " [ 4  8 12 16 20 24]]\n"
     ]
    }
   ],
   "source": [
    "# Using order argument in reshape as numpy function\n",
    "arr_2d_C = np.reshape(arr_org, (4, 6), order=\"C\")\n",
    "print(f\"arr_2d with order as C (columns-like)\\n{arr_2d_C}\")\n",
    "\n",
    "print(\"\\n\", \"=\"*30, \"\\n\")\n",
    "\n",
    "arr_2d_F = np.reshape(arr_org, (4, 6), order=\"f\")\n",
    "print(f\"arr_2d with order as F (Fortan-like)\\n{arr_2d_F}\")"
   ]
  },
  {
   "cell_type": "code",
   "execution_count": 11,
   "metadata": {},
   "outputs": [
    {
     "data": {
      "text/plain": [
       "array([[[ 0,  2,  3,  4],\n",
       "        [ 5,  6,  7,  8],\n",
       "        [ 9, 10, 11, 12]],\n",
       "\n",
       "       [[13, 14, 15, 16],\n",
       "        [17, 18, 19, 20],\n",
       "        [21, 22, 23, 24]]])"
      ]
     },
     "execution_count": 11,
     "metadata": {},
     "output_type": "execute_result"
    }
   ],
   "source": [
    "# Using reshape() as array function - 1D array into 3D array\n",
    "arr_3d = arr_org.reshape([2, 3, 4])\n",
    "arr_3d"
   ]
  },
  {
   "cell_type": "code",
   "execution_count": 12,
   "metadata": {},
   "outputs": [
    {
     "name": "stdout",
     "output_type": "stream",
     "text": [
      "arr_2d with order as C (columns-like)\n",
      "[[ 0  2  3  4  5  6]\n",
      " [ 7  8  9 10 11 12]\n",
      " [13 14 15 16 17 18]\n",
      " [19 20 21 22 23 24]]\n",
      "\n",
      " ============================== \n",
      "\n",
      "arr_2d with order as F (Fortan-like)\n",
      "[[ 0  5  9 13 17 21]\n",
      " [ 2  6 10 14 18 22]\n",
      " [ 3  7 11 15 19 23]\n",
      " [ 4  8 12 16 20 24]]\n"
     ]
    }
   ],
   "source": [
    "# using argument 'order' with reshape() as numpy array function\n",
    "arr_2d_C = arr_org.reshape([4, 6], order=\"C\")\n",
    "print(f\"arr_2d with order as C (columns-like)\\n{arr_2d_C}\")\n",
    "\n",
    "print(\"\\n\", \"=\"*30, \"\\n\")\n",
    "\n",
    "arr_2d_F = arr_org.reshape([4, 6], order=\"f\")\n",
    "print(f\"arr_2d with order as F (Fortan-like)\\n{arr_2d_F}\")"
   ]
  },
  {
   "cell_type": "code",
   "execution_count": 13,
   "metadata": {},
   "outputs": [
    {
     "data": {
      "text/plain": [
       "array([[ 0,  2,  3,  4,  5,  6,  7,  8],\n",
       "       [ 9, 10, 11, 12, 13, 14, 15, 16],\n",
       "       [17, 18, 19, 20, 21, 22, 23, 24]])"
      ]
     },
     "execution_count": 13,
     "metadata": {},
     "output_type": "execute_result"
    }
   ],
   "source": [
    "# using -1\n",
    "arr_2d_1 = arr_org.reshape([3,-1])\n",
    "arr_2d_1\n",
    "# arr_2d_1.shape"
   ]
  },
  {
   "cell_type": "code",
   "execution_count": 14,
   "metadata": {},
   "outputs": [
    {
     "name": "stdout",
     "output_type": "stream",
     "text": [
      "[[[ 1  2  3  4  5  6  7  8  9 10 11]\n",
      "  [12 13 14 15 16 17 18 19 20 21 22]\n",
      "  [23 24 25 26 27 28 29 30 31 32 33]]\n",
      "\n",
      " [[34 35 36 37 38 39 40 41 42 43 44]\n",
      "  [45 46 47 48 49 50 51 52 53 54 55]\n",
      "  [56 57 58 59 60 61 62 63 64 65 66]]\n",
      "\n",
      " [[67 68 69 70 71 72 73 74 75 76 77]\n",
      "  [78 79 80 81 82 83 84 85 86 87 88]\n",
      "  [89 90 91 92 93 94 95 96 97 98 99]]]\n",
      "\n",
      "Value that substituted -1 =>  11\n"
     ]
    }
   ],
   "source": [
    "# using -1\n",
    "arr_3d_1 = np.arange(1,100).reshape([3,3,-1])\n",
    "print(arr_3d_1)\n",
    "print()\n",
    "print(\"Value that substituted -1 => \", arr_3d_1.shape[2])"
   ]
  }
 ],
 "metadata": {
  "kernelspec": {
   "display_name": "Python 3",
   "language": "python",
   "name": "python3"
  },
  "language_info": {
   "codemirror_mode": {
    "name": "ipython",
    "version": 3
   },
   "file_extension": ".py",
   "mimetype": "text/x-python",
   "name": "python",
   "nbconvert_exporter": "python",
   "pygments_lexer": "ipython3",
   "version": "3.8.2"
  }
 },
 "nbformat": 4,
 "nbformat_minor": 4
}
