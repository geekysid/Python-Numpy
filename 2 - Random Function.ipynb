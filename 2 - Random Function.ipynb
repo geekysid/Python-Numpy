{
 "cells": [
  {
   "cell_type": "code",
   "execution_count": 1,
   "metadata": {},
   "outputs": [],
   "source": [
    "import numpy as np"
   ]
  },
  {
   "cell_type": "code",
   "execution_count": 2,
   "metadata": {},
   "outputs": [
    {
     "data": {
      "text/plain": [
       "array([0.40294964, 0.54156907, 0.95505905, 0.95797353, 0.84789459,\n",
       "       0.83114894, 0.26425322, 0.36972283, 0.18315424, 0.34390613])"
      ]
     },
     "execution_count": 2,
     "metadata": {},
     "output_type": "execute_result"
    }
   ],
   "source": [
    "# rand() - Generating 1D array with 10 element\n",
    "npArray = np.random.rand(10)\n",
    "npArray"
   ]
  },
  {
   "cell_type": "code",
   "execution_count": 3,
   "metadata": {},
   "outputs": [
    {
     "data": {
      "text/plain": [
       "array([[0.79011814, 0.67438543, 0.85717643, 0.49035314],\n",
       "       [0.2538174 , 0.67465359, 0.84609358, 0.28868213],\n",
       "       [0.7251408 , 0.74146801, 0.07928876, 0.65966774]])"
      ]
     },
     "execution_count": 3,
     "metadata": {},
     "output_type": "execute_result"
    }
   ],
   "source": [
    "# rand() - Generating 2D array with 3 rows and 4 columns\n",
    "npArray = np.random.rand(3, 4)\n",
    "npArray"
   ]
  },
  {
   "cell_type": "code",
   "execution_count": 4,
   "metadata": {},
   "outputs": [
    {
     "data": {
      "text/plain": [
       "array([[[0.36901405, 0.29630357, 0.89716706, 0.88066347],\n",
       "        [0.65294531, 0.52787692, 0.34108109, 0.33829834],\n",
       "        [0.16945255, 0.92105959, 0.16731574, 0.74373693]],\n",
       "\n",
       "       [[0.4738373 , 0.80278285, 0.47469206, 0.06841118],\n",
       "        [0.38598055, 0.51065038, 0.46915624, 0.98841991],\n",
       "        [0.39079833, 0.52674999, 0.42606409, 0.31763665]]])"
      ]
     },
     "execution_count": 4,
     "metadata": {},
     "output_type": "execute_result"
    }
   ],
   "source": [
    "# rand() - Generating 3D array\n",
    "npArray = np.random.rand(2, 3, 4)\n",
    "npArray"
   ]
  },
  {
   "cell_type": "code",
   "execution_count": 5,
   "metadata": {},
   "outputs": [
    {
     "data": {
      "text/plain": [
       "array([-1.60839458,  0.40163407, -0.27674734, -0.42650954,  1.30109763,\n",
       "        0.67785358,  0.70711838, -0.96556084,  0.54468467, -0.62752151])"
      ]
     },
     "execution_count": 5,
     "metadata": {},
     "output_type": "execute_result"
    }
   ],
   "source": [
    "# randn() - generating 1D array with 10 elements\n",
    "npArray = np.random.randn(10)\n",
    "npArray"
   ]
  },
  {
   "cell_type": "code",
   "execution_count": 6,
   "metadata": {},
   "outputs": [
    {
     "data": {
      "text/plain": [
       "array([[ 0.55154427,  0.44443086,  2.24884829, -0.60290936],\n",
       "       [-0.03071697, -0.27725378, -1.57754521, -0.22968449],\n",
       "       [-0.43541253, -1.56107322,  1.20797895,  0.15834   ]])"
      ]
     },
     "execution_count": 6,
     "metadata": {},
     "output_type": "execute_result"
    }
   ],
   "source": [
    "# randn() - generating 2D array with 3 rows and 4 columns\n",
    "npArray = np.random.randn(3, 4)\n",
    "npArray"
   ]
  },
  {
   "cell_type": "code",
   "execution_count": 7,
   "metadata": {},
   "outputs": [
    {
     "data": {
      "text/plain": [
       "array([[[-0.21900942,  1.00096441, -1.2462665 ,  0.50739209],\n",
       "        [ 0.23407204,  0.2951788 , -1.72703075, -0.03653191],\n",
       "        [ 0.65837779,  0.97151303,  2.64841322,  0.02618502]],\n",
       "\n",
       "       [[-1.75393823, -0.26579912,  0.43071926,  1.26324601],\n",
       "        [-1.43048891, -0.40737261,  0.59526046, -0.39555748],\n",
       "        [-0.23729094, -0.01326983, -1.78345976, -0.49350464]]])"
      ]
     },
     "execution_count": 7,
     "metadata": {},
     "output_type": "execute_result"
    }
   ],
   "source": [
    "# randn() - generating 3D Array\n",
    "npArray = np.random.randn(2,3,4)\n",
    "npArray"
   ]
  },
  {
   "cell_type": "code",
   "execution_count": 8,
   "metadata": {},
   "outputs": [
    {
     "data": {
      "text/plain": [
       "array([21, 16, 81, 44,  9, 26, 26, 15, 89, 52])"
      ]
     },
     "execution_count": 8,
     "metadata": {},
     "output_type": "execute_result"
    }
   ],
   "source": [
    "# randint() - generating 1D array with 10 elements between 1 and 100\n",
    "npArray = np.random.randint(1, 100, size=(10))\n",
    "npArray"
   ]
  },
  {
   "cell_type": "code",
   "execution_count": 9,
   "metadata": {},
   "outputs": [
    {
     "data": {
      "text/plain": [
       "array([[36, 49, 47, 47],\n",
       "       [ 3, 59, 45,  5],\n",
       "       [42, 81, 58, 68]])"
      ]
     },
     "execution_count": 9,
     "metadata": {},
     "output_type": "execute_result"
    }
   ],
   "source": [
    "# randint() - generating 2D array with 3 rows and 4 columns nd elements between 1 and 100\n",
    "npArray = np.random.randint(1, 100, size=(3, 4))\n",
    "npArray"
   ]
  },
  {
   "cell_type": "code",
   "execution_count": 10,
   "metadata": {
    "scrolled": true
   },
   "outputs": [
    {
     "data": {
      "text/plain": [
       "array([[False,  True,  True,  True],\n",
       "       [False,  True,  True,  True],\n",
       "       [False, False, False, False]])"
      ]
     },
     "execution_count": 10,
     "metadata": {},
     "output_type": "execute_result"
    }
   ],
   "source": [
    "# randint() - generating 2D array with 3 rows and 4 columns nd elements between 1 and 100 with dtype as bool\n",
    "npArray = np.random.randint(0, 2, size=(3, 4), dtype='bool')\n",
    "npArray"
   ]
  },
  {
   "cell_type": "code",
   "execution_count": 17,
   "metadata": {},
   "outputs": [
    {
     "data": {
      "text/plain": [
       "array([[5, 8, 9],\n",
       "       [5, 0, 0],\n",
       "       [1, 7, 6]])"
      ]
     },
     "execution_count": 17,
     "metadata": {},
     "output_type": "execute_result"
    }
   ],
   "source": [
    "# seed()\n",
    "np.random.seed(1)\n",
    "npArray = np.random.randint(0, 10, (3,3))\n",
    "npArray"
   ]
  },
  {
   "cell_type": "code",
   "execution_count": 18,
   "metadata": {},
   "outputs": [
    {
     "data": {
      "text/plain": [
       "array([5, 8, 9, 5, 0, 0, 1, 7, 6])"
      ]
     },
     "execution_count": 18,
     "metadata": {},
     "output_type": "execute_result"
    }
   ],
   "source": [
    "# seed()\n",
    "np.random.seed(1)\n",
    "npArray = np.random.randint(0, 10, (9))\n",
    "npArray"
   ]
  },
  {
   "cell_type": "code",
   "execution_count": null,
   "metadata": {},
   "outputs": [],
   "source": []
  }
 ],
 "metadata": {
  "kernelspec": {
   "display_name": "Python 3",
   "language": "python",
   "name": "python3"
  },
  "language_info": {
   "codemirror_mode": {
    "name": "ipython",
    "version": 3
   },
   "file_extension": ".py",
   "mimetype": "text/x-python",
   "name": "python",
   "nbconvert_exporter": "python",
   "pygments_lexer": "ipython3",
   "version": "3.8.2"
  }
 },
 "nbformat": 4,
 "nbformat_minor": 4
}
