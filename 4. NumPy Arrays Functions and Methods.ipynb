{
 "cells": [
  {
   "cell_type": "code",
   "execution_count": 1,
   "metadata": {},
   "outputs": [],
   "source": [
    "import numpy as np"
   ]
  },
  {
   "cell_type": "code",
   "execution_count": 2,
   "metadata": {},
   "outputs": [],
   "source": [
    "mylist = [1, 2, 3, 4, 5]"
   ]
  },
  {
   "cell_type": "code",
   "execution_count": 3,
   "metadata": {},
   "outputs": [],
   "source": [
    "npArray = np.array(mylist)"
   ]
  },
  {
   "cell_type": "code",
   "execution_count": 4,
   "metadata": {},
   "outputs": [
    {
     "data": {
      "text/plain": [
       "array([1, 2, 3, 4, 5])"
      ]
     },
     "execution_count": 4,
     "metadata": {},
     "output_type": "execute_result"
    }
   ],
   "source": [
    "npArray"
   ]
  },
  {
   "cell_type": "code",
   "execution_count": 5,
   "metadata": {},
   "outputs": [
    {
     "data": {
      "text/plain": [
       "numpy.ndarray"
      ]
     },
     "execution_count": 5,
     "metadata": {},
     "output_type": "execute_result"
    }
   ],
   "source": [
    "type(npArray)"
   ]
  },
  {
   "cell_type": "code",
   "execution_count": 6,
   "metadata": {},
   "outputs": [
    {
     "data": {
      "text/plain": [
       "1"
      ]
     },
     "execution_count": 6,
     "metadata": {},
     "output_type": "execute_result"
    }
   ],
   "source": [
    "npArray.ndim"
   ]
  },
  {
   "cell_type": "code",
   "execution_count": 7,
   "metadata": {},
   "outputs": [],
   "source": [
    "mylist = [1, 2, 3, 4, 5]\n",
    "\n",
    "mylist2 = [[1, 2, 3, 4, 5],['a', 'b', 'c', 'd', 'e']]\n",
    "\n",
    "mylist3 = [[1, 2, 3, 4, 5],[4, 5, 6]]"
   ]
  },
  {
   "cell_type": "code",
   "execution_count": 8,
   "metadata": {},
   "outputs": [],
   "source": [
    "npArray = np.array(mylist)\n",
    "npArray2 = np.array(mylist2)\n",
    "npArray3 = np.array(mylist3)"
   ]
  },
  {
   "cell_type": "code",
   "execution_count": 9,
   "metadata": {},
   "outputs": [
    {
     "name": "stdout",
     "output_type": "stream",
     "text": [
      "npArray:\n",
      "[1 2 3 4 5]\n",
      "npArray2:\n",
      "[['1' '2' '3' '4' '5']\n",
      " ['a' 'b' 'c' 'd' 'e']]\n",
      "npArray3:\n",
      "[list([1, 2, 3, 4, 5]) list([4, 5, 6])]\n"
     ]
    }
   ],
   "source": [
    "print(f\"npArray:\\n{npArray}\")\n",
    "print(f\"npArray2:\\n{npArray2}\")\n",
    "print(f\"npArray3:\\n{npArray3}\")"
   ]
  },
  {
   "cell_type": "code",
   "execution_count": 10,
   "metadata": {},
   "outputs": [
    {
     "name": "stdout",
     "output_type": "stream",
     "text": [
      "npArray Dimension: 1\n",
      "npArray2 Dimension: 2\n",
      "npArray3 Dimension: 1\n"
     ]
    }
   ],
   "source": [
    "# dimension of array\n",
    "print(f\"npArray Dimension: {npArray.ndim}\")\n",
    "print(f\"npArray2 Dimension: {npArray2.ndim}\")\n",
    "print(f\"npArray3 Dimension: {npArray3.ndim}\")"
   ]
  },
  {
   "cell_type": "code",
   "execution_count": 11,
   "metadata": {},
   "outputs": [
    {
     "name": "stdout",
     "output_type": "stream",
     "text": [
      "npArray Size: 5\n",
      "npArray2 Size: 10\n",
      "npArray3 Size: 2\n"
     ]
    }
   ],
   "source": [
    "# size of array\n",
    "print(f\"npArray Size: {npArray.size}\")\n",
    "print(f\"npArray2 Size: {npArray2.size}\")\n",
    "print(f\"npArray3 Size: {npArray3.size}\")"
   ]
  },
  {
   "cell_type": "code",
   "execution_count": 12,
   "metadata": {},
   "outputs": [
    {
     "name": "stdout",
     "output_type": "stream",
     "text": [
      "npArray Shape: (5,)\n",
      "npArray2 Shape: (2, 5)\n",
      "npArray3 Shape: (2,)\n"
     ]
    }
   ],
   "source": [
    "# shape of array\n",
    "print(f\"npArray Shape: {npArray.shape}\")\n",
    "print(f\"npArray2 Shape: {npArray2.shape}\")\n",
    "print(f\"npArray3 Shape: {npArray3.shape}\")"
   ]
  },
  {
   "cell_type": "code",
   "execution_count": 13,
   "metadata": {},
   "outputs": [
    {
     "name": "stdout",
     "output_type": "stream",
     "text": [
      "npArray Data Type: int64\n",
      "npArray2 Data Type: <U21\n",
      "npArray3 Data Type: object\n"
     ]
    }
   ],
   "source": [
    "# Data type of array\n",
    "print(f\"npArray Data Type: {npArray.dtype}\")\n",
    "print(f\"npArray2 Data Type: {npArray2.dtype}\")\n",
    "print(f\"npArray3 Data Type: {npArray3.dtype}\")"
   ]
  },
  {
   "cell_type": "code",
   "execution_count": null,
   "metadata": {},
   "outputs": [],
   "source": []
  }
 ],
 "metadata": {
  "kernelspec": {
   "display_name": "Python 3",
   "language": "python",
   "name": "python3"
  },
  "language_info": {
   "codemirror_mode": {
    "name": "ipython",
    "version": 3
   },
   "file_extension": ".py",
   "mimetype": "text/x-python",
   "name": "python",
   "nbconvert_exporter": "python",
   "pygments_lexer": "ipython3",
   "version": "3.7.4"
  }
 },
 "nbformat": 4,
 "nbformat_minor": 4
}
