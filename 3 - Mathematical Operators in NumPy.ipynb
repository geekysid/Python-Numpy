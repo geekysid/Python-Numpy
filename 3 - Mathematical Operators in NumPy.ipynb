{
 "cells": [
  {
   "cell_type": "code",
   "execution_count": 1,
   "metadata": {},
   "outputs": [
    {
     "name": "stdout",
     "output_type": "stream",
     "text": [
      "Array1\n",
      "[[ 6 12 13]\n",
      " [ 9 10 12]\n",
      " [ 6 16  1]]\n",
      "\n",
      "Array2\n",
      "[[17  2 13]\n",
      " [ 8 14  7]\n",
      " [19  6 19]]\n"
     ]
    }
   ],
   "source": [
    "import numpy as np\n",
    "np.random.seed(1)\n",
    "arr1 = np.random.randint(1, 20, (3, 3))\n",
    "arr2 = np.random.randint(1, 20, (3, 3))\n",
    "print(f\"Array1\\n{arr1}\")\n",
    "print()\n",
    "print(f\"Array2\\n{arr2}\")"
   ]
  },
  {
   "cell_type": "code",
   "execution_count": 2,
   "metadata": {},
   "outputs": [
    {
     "data": {
      "text/plain": [
       "array([[23, 14, 26],\n",
       "       [17, 24, 19],\n",
       "       [25, 22, 20]])"
      ]
     },
     "execution_count": 2,
     "metadata": {},
     "output_type": "execute_result"
    }
   ],
   "source": [
    "# add()\n",
    "arr_add = np.add(arr1, arr2)\n",
    "arr_add"
   ]
  },
  {
   "cell_type": "code",
   "execution_count": 3,
   "metadata": {},
   "outputs": [
    {
     "data": {
      "text/plain": [
       "array([[-11,  10,   0],\n",
       "       [  1,  -4,   5],\n",
       "       [-13,  10, -18]])"
      ]
     },
     "execution_count": 3,
     "metadata": {},
     "output_type": "execute_result"
    }
   ],
   "source": [
    "# subtract()\n",
    "arr_subtract = np.subtract(arr1, arr2)\n",
    "arr_subtract"
   ]
  },
  {
   "cell_type": "code",
   "execution_count": 4,
   "metadata": {},
   "outputs": [
    {
     "data": {
      "text/plain": [
       "array([[0.35294118, 6.        , 1.        ],\n",
       "       [1.125     , 0.71428571, 1.71428571],\n",
       "       [0.31578947, 2.66666667, 0.05263158]])"
      ]
     },
     "execution_count": 4,
     "metadata": {},
     "output_type": "execute_result"
    }
   ],
   "source": [
    "# divide()\n",
    "arr_divide = np.divide(arr1, arr2)\n",
    "arr_divide"
   ]
  },
  {
   "cell_type": "code",
   "execution_count": 5,
   "metadata": {},
   "outputs": [
    {
     "data": {
      "text/plain": [
       "array([[102,  24, 169],\n",
       "       [ 72, 140,  84],\n",
       "       [114,  96,  19]])"
      ]
     },
     "execution_count": 5,
     "metadata": {},
     "output_type": "execute_result"
    }
   ],
   "source": [
    "# multiply()\n",
    "arr_multiply = np.multiply(arr1, arr2)\n",
    "arr_multiply"
   ]
  },
  {
   "cell_type": "code",
   "execution_count": 6,
   "metadata": {},
   "outputs": [
    {
     "data": {
      "text/plain": [
       "array([[2.44948974, 3.46410162, 3.60555128],\n",
       "       [3.        , 3.16227766, 3.46410162],\n",
       "       [2.44948974, 4.        , 1.        ]])"
      ]
     },
     "execution_count": 6,
     "metadata": {},
     "output_type": "execute_result"
    }
   ],
   "source": [
    "# sqrt()\n",
    "arr_sqrt = np.sqrt(arr1)\n",
    "arr_sqrt"
   ]
  },
  {
   "cell_type": "code",
   "execution_count": 7,
   "metadata": {},
   "outputs": [
    {
     "data": {
      "text/plain": [
       "array([[ 36, 144, 169],\n",
       "       [ 81, 100, 144],\n",
       "       [ 36, 256,   1]], dtype=int32)"
      ]
     },
     "execution_count": 7,
     "metadata": {},
     "output_type": "execute_result"
    }
   ],
   "source": [
    "# square()\n",
    "arr_square = np.square(arr1)\n",
    "arr_square"
   ]
  },
  {
   "cell_type": "code",
   "execution_count": 8,
   "metadata": {},
   "outputs": [
    {
     "data": {
      "text/plain": [
       "array([[1.79175947, 2.48490665, 2.56494936],\n",
       "       [2.19722458, 2.30258509, 2.48490665],\n",
       "       [1.79175947, 2.77258872, 0.        ]])"
      ]
     },
     "execution_count": 8,
     "metadata": {},
     "output_type": "execute_result"
    }
   ],
   "source": [
    "# log()\n",
    "arr_log = np.log(arr1)\n",
    "arr_log"
   ]
  },
  {
   "cell_type": "code",
   "execution_count": 9,
   "metadata": {},
   "outputs": [
    {
     "data": {
      "text/plain": [
       "array([[0.77815125, 1.07918125, 1.11394335],\n",
       "       [0.95424251, 1.        , 1.07918125],\n",
       "       [0.77815125, 1.20411998, 0.        ]])"
      ]
     },
     "execution_count": 9,
     "metadata": {},
     "output_type": "execute_result"
    }
   ],
   "source": [
    "# log10()\n",
    "arr_log10 = np.log10(arr1)\n",
    "arr_log10"
   ]
  },
  {
   "cell_type": "code",
   "execution_count": 10,
   "metadata": {},
   "outputs": [
    {
     "data": {
      "text/plain": [
       "array([[2., 3., 4.],\n",
       "       [3., 3., 3.],\n",
       "       [2., 4., 1.]])"
      ]
     },
     "execution_count": 10,
     "metadata": {},
     "output_type": "execute_result"
    }
   ],
   "source": [
    "# around() with default numbers of decimals as 0\n",
    "arr_around = np.around(np.sqrt(arr1))\n",
    "arr_around"
   ]
  },
  {
   "cell_type": "code",
   "execution_count": 11,
   "metadata": {},
   "outputs": [
    {
     "data": {
      "text/plain": [
       "array([[2.45, 3.46, 3.61],\n",
       "       [3.  , 3.16, 3.46],\n",
       "       [2.45, 4.  , 1.  ]])"
      ]
     },
     "execution_count": 11,
     "metadata": {},
     "output_type": "execute_result"
    }
   ],
   "source": [
    "# around() with numbers of decimals as 2\n",
    "arr_around = np.around(np.sqrt(arr1), decimals=2)\n",
    "arr_around"
   ]
  },
  {
   "cell_type": "code",
   "execution_count": 12,
   "metadata": {},
   "outputs": [
    {
     "data": {
      "text/plain": [
       "array([[2., 3., 3.],\n",
       "       [3., 3., 3.],\n",
       "       [2., 4., 1.]])"
      ]
     },
     "execution_count": 12,
     "metadata": {},
     "output_type": "execute_result"
    }
   ],
   "source": [
    "# floor() with numbers of decimals as 2\n",
    "arr_floor = np.floor(np.sqrt(arr1))\n",
    "arr_floor"
   ]
  },
  {
   "cell_type": "code",
   "execution_count": 13,
   "metadata": {},
   "outputs": [
    {
     "data": {
      "text/plain": [
       "array([[3., 4., 4.],\n",
       "       [3., 4., 4.],\n",
       "       [3., 4., 1.]])"
      ]
     },
     "execution_count": 13,
     "metadata": {},
     "output_type": "execute_result"
    }
   ],
   "source": [
    "# ceil()\n",
    "arr_ceil = np.ceil(np.sqrt(arr1))\n",
    "arr_ceil"
   ]
  },
  {
   "cell_type": "code",
   "execution_count": 14,
   "metadata": {},
   "outputs": [
    {
     "data": {
      "text/plain": [
       "array([[ 6, 12, 13],\n",
       "       [ 9, 10, 12],\n",
       "       [ 6, 16,  1]])"
      ]
     },
     "execution_count": 14,
     "metadata": {},
     "output_type": "execute_result"
    }
   ],
   "source": [
    "# nan_to_num()\n",
    "arr_nan_to_num = np.nan_to_num(arr1)\n",
    "arr_nan_to_num"
   ]
  },
  {
   "cell_type": "code",
   "execution_count": 15,
   "metadata": {},
   "outputs": [
    {
     "data": {
      "text/plain": [
       "array([[17, 12, 13],\n",
       "       [ 9, 14, 12],\n",
       "       [19, 16, 19]])"
      ]
     },
     "execution_count": 15,
     "metadata": {},
     "output_type": "execute_result"
    }
   ],
   "source": [
    "# maximum()\n",
    "arr_maximum = np.maximum(arr1, arr2)\n",
    "arr_maximum"
   ]
  }
 ],
 "metadata": {
  "kernelspec": {
   "display_name": "Python 3",
   "language": "python",
   "name": "python3"
  },
  "language_info": {
   "codemirror_mode": {
    "name": "ipython",
    "version": 3
   },
   "file_extension": ".py",
   "mimetype": "text/x-python",
   "name": "python",
   "nbconvert_exporter": "python",
   "pygments_lexer": "ipython3",
   "version": "3.8.2"
  }
 },
 "nbformat": 4,
 "nbformat_minor": 4
}
